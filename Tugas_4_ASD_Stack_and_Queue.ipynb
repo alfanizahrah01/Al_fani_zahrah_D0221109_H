{
  "nbformat": 4,
  "nbformat_minor": 0,
  "metadata": {
    "colab": {
      "name": "Tugas 4.ASD_Stack and Queue.ipynb",
      "provenance": []
    },
    "kernelspec": {
      "name": "python3",
      "display_name": "Python 3"
    },
    "language_info": {
      "name": "python"
    }
  },
  "cells": [
    {
      "cell_type": "code",
      "execution_count": 2,
      "metadata": {
        "colab": {
          "base_uri": "https://localhost:8080/"
        },
        "id": "bi__0riCM0P-",
        "outputId": "26a539cc-e191-4c10-e8c4-833cabca04a3"
      },
      "outputs": [
        {
          "output_type": "stream",
          "name": "stdout",
          "text": [
            "masukkan ukuran maksimal stack:5\n",
            "(Push/Pop/Peek/isEmpty\\size), ketik selain itu untuk berhenti: push\n",
            "Push: fani\n",
            "fani pushed\n",
            "(Push/Pop/Peek/isEmpty\\size), ketik selain itu untuk berhenti: push\n",
            "Push: rani\n",
            "rani pushed\n",
            "(Push/Pop/Peek/isEmpty\\size), ketik selain itu untuk berhenti: push\n",
            "Push: fira\n",
            "fira pushed\n",
            "(Push/Pop/Peek/isEmpty\\size), ketik selain itu untuk berhenti: push\n",
            "Push: dani\n",
            "dani pushed\n",
            "(Push/Pop/Peek/isEmpty\\size), ketik selain itu untuk berhenti: push\n",
            "Push: fiyssquad\n",
            "fiyssquad pushed\n",
            "(Push/Pop/Peek/isEmpty\\size), ketik selain itu untuk berhenti: pop\n",
            "fiyssquad popped from stack\n",
            "(Push/Pop/Peek/isEmpty\\size), ketik selain itu untuk berhenti: push\n",
            "Push: fiys girls\n",
            "fiys girls pushed\n",
            "(Push/Pop/Peek/isEmpty\\size), ketik selain itu untuk berhenti: peek\n",
            "fiys girls\n",
            "(Push/Pop/Peek/isEmpty\\size), ketik selain itu untuk berhenti: size\n",
            "ukuran stack saat ini:  5 \n",
            "Ukuran maksimal stack:  5\n",
            "(Push/Pop/Peek/isEmpty\\size), ketik selain itu untuk berhenti: Empty\n",
            "Elemen yang ada pada stack: ['fani', 'rani', 'fira', 'dani', 'fiys girls']\n"
          ]
        }
      ],
      "source": [
        "#stack\n",
        "stack = []\n",
        "max_size = int(input(\"masukkan ukuran maksimal stack:\"))\n",
        "\n",
        "def isEmpty(s):\n",
        "  if len(s) == 0:\n",
        "    print(\"Stack kosong\")\n",
        "    return True\n",
        "  return False\n",
        "\n",
        "def isFull(s):\n",
        "  if len(s) == max_size:\n",
        "    print(\"stack penuh.\")\n",
        "    return True\n",
        "  return False\n",
        "\n",
        "def push(s):\n",
        "  p = input(\"Push: \")\n",
        "  s.append(p)\n",
        "  print(f\"{p} pushed\")\n",
        "\n",
        "def pop(s):\n",
        "  if isEmpty(s) == False:\n",
        "    print(s.pop(), \"popped from stack\")\n",
        "\n",
        "def peek(s):\n",
        "  if isEmpty(s) == False:\n",
        "    print(s[-1])\n",
        "\n",
        "\n",
        "while True:\n",
        "  perintah = input(\"(Push/Pop/Peek/isEmpty\\size), ketik selain itu untuk berhenti: \").lower()\n",
        "  \n",
        "  if perintah == 'push':\n",
        "    push(stack)\n",
        "  elif perintah == 'pop':\n",
        "    pop(stack)\n",
        "  elif perintah == 'peek':\n",
        "    peek(stack)\n",
        "  elif perintah == 'isEmpty':\n",
        "    if isEmpty(stack) == False:\n",
        "       print(\"stack memiliki isi.\")\n",
        "  elif perintah == 'size':\n",
        "    print(\"ukuran stack saat ini: \",len(stack),\"\\nUkuran maksimal stack: \",max_size)\n",
        "\n",
        "\n",
        "  else:\n",
        "    break\n",
        "\n",
        "print(\"Elemen yang ada pada stack:\", stack)"
      ]
    },
    {
      "cell_type": "code",
      "source": [
        "#queue\n",
        "queue = []\n",
        "max_size = int(input(\"masukkan ukuran maksimal Queue:\"))\n",
        "\n",
        "def isEmpty(q):\n",
        "  if len(q) == 0:\n",
        "    print(\"Queue kosong\")\n",
        "    return True\n",
        "  return False\n",
        "\n",
        "def isFull(q):\n",
        "  if len(queue) == max_size:\n",
        "    print(\"Queue penuh.\")\n",
        "    return True\n",
        "  return false\n",
        "\n",
        "def enqueue(q):\n",
        "  p = input(\"Add: \")\n",
        "  q.append(p)\n",
        "  print(f\"{p} added\")\n",
        "\n",
        "def dequeue(q):\n",
        "  if isEmpty(q) == False:\n",
        "    print(q.pop(0), \"removed\")\n",
        "\n",
        "while True:\n",
        "  perintah = input(\"(Dequeue/Enqueue/Full/size), ketik selain itu untuk berhenti: \").lower()\n",
        "  \n",
        "  if perintah == 'enqueue':\n",
        "    enqueue(queue)\n",
        "  elif perintah == 'dequeue':\n",
        "    dequeue(queue)\n",
        "  elif perintah == False:\n",
        "    print(\"Queue belum penuh.\")\n",
        "  elif perintah == 'size':\n",
        "    print(\"ukuran queue saat ini:\",len(queue),\"\\nUkuran maksimal queue:\",max_size)\n",
        "  else:\n",
        "    break\n",
        "\n",
        "print(\"Queue items:\", queue)"
      ],
      "metadata": {
        "colab": {
          "base_uri": "https://localhost:8080/"
        },
        "id": "vOvup1zDNkD0",
        "outputId": "983ecb07-d083-4ab4-c8d6-3cef976cc7a7"
      },
      "execution_count": 3,
      "outputs": [
        {
          "output_type": "stream",
          "name": "stdout",
          "text": [
            "masukkan ukuran maksimal Queue:4\n",
            "(Dequeue/Enqueue/Full/size), ketik selain itu untuk berhenti: enqueue\n",
            "Add: fani\n",
            "fani added\n",
            "(Dequeue/Enqueue/Full/size), ketik selain itu untuk berhenti: enqueue\n",
            "Add: zahrah\n",
            "zahrah added\n",
            "(Dequeue/Enqueue/Full/size), ketik selain itu untuk berhenti: enqueue\n",
            "Add: al fani zahrah\n",
            "al fani zahrah added\n",
            "(Dequeue/Enqueue/Full/size), ketik selain itu untuk berhenti: enqueue\n",
            "Add: satu agustus duaributiga\n",
            "satu agustus duaributiga added\n",
            "(Dequeue/Enqueue/Full/size), ketik selain itu untuk berhenti: dequeue\n",
            "fani removed\n",
            "(Dequeue/Enqueue/Full/size), ketik selain itu untuk berhenti: dequeue\n",
            "zahrah removed\n",
            "(Dequeue/Enqueue/Full/size), ketik selain itu untuk berhenti: size\n",
            "ukuran queue saat ini: 2 \n",
            "Ukuran maksimal queue: 4\n",
            "(Dequeue/Enqueue/Full/size), ketik selain itu untuk berhenti: full\n",
            "Queue items: ['al fani zahrah', 'satu agustus duaributiga']\n"
          ]
        }
      ]
    }
  ]
}