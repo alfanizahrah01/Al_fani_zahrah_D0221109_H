{
  "nbformat": 4,
  "nbformat_minor": 0,
  "metadata": {
    "colab": {
      "name": "Stacks and Queues (Data Structures).ipynb",
      "provenance": []
    },
    "kernelspec": {
      "name": "python3",
      "display_name": "Python 3"
    },
    "language_info": {
      "name": "python"
    }
  },
  "cells": [
    {
      "cell_type": "code",
      "execution_count": 8,
      "metadata": {
        "colab": {
          "base_uri": "https://localhost:8080/"
        },
        "id": "QhCMfrYypM-_",
        "outputId": "17cc5392-cb9e-49ce-c468-6d45685aafb5"
      },
      "outputs": [
        {
          "output_type": "stream",
          "name": "stdout",
          "text": [
            "(Push/Pop/Peek), ketik selain itu untuk berhenti: push\n",
            "Push: fani,fira,rani,dani\n",
            "fani,fira,rani,dani pushed\n",
            "(Push/Pop/Peek), ketik selain itu untuk berhenti: push\n",
            "Push: fiys squad\n",
            "fiys squad pushed\n",
            "(Push/Pop/Peek), ketik selain itu untuk berhenti: pop\n",
            "fiys squad popped from stack\n",
            "(Push/Pop/Peek), ketik selain itu untuk berhenti: push\n",
            "Push: fiys girls\n",
            "fiys girls pushed\n",
            "(Push/Pop/Peek), ketik selain itu untuk berhenti: peek\n",
            "fiys girls\n",
            "(Push/Pop/Peek), ketik selain itu untuk berhenti: 0\n",
            "Elemen yang ada pada stack: ['fani,fira,rani,dani', 'fiys girls']\n"
          ]
        }
      ],
      "source": [
        "#stack\n",
        "stack = []\n",
        "\n",
        "def isEmpty(s):\n",
        "  if len(s) == 0:\n",
        "    print(\"Stack Empty\")\n",
        "    return True\n",
        "  return False\n",
        "\n",
        "def push(s):\n",
        "  p = input(\"Push: \")\n",
        "  s.append(p)\n",
        "  print(f\"{p} pushed\")\n",
        "\n",
        "def pop(s):\n",
        "  if isEmpty(s) == False:\n",
        "    print(s.pop(), \"popped from stack\")\n",
        "\n",
        "def peek(s):\n",
        "  if isEmpty(s) == False:\n",
        "    print(s[-1])\n",
        "\n",
        "\n",
        "while True:\n",
        "  perintah = input(\"(Push/Pop/Peek), ketik selain itu untuk berhenti: \").lower()\n",
        "  \n",
        "  if perintah == 'push':\n",
        "    push(stack)\n",
        "  elif perintah == 'pop':\n",
        "    pop(stack)\n",
        "  elif perintah == 'peek':\n",
        "    peek(stack)\n",
        "  else:\n",
        "    break\n",
        "\n",
        "print(\"Elemen yang ada pada stack:\", stack)"
      ]
    },
    {
      "cell_type": "code",
      "source": [
        "#queue\n",
        "queue = []\n",
        "\n",
        "def isEmpty(q):\n",
        "  if len(q) == 0:\n",
        "    print(\"Queue Empty\")\n",
        "    return True\n",
        "  return False\n",
        "\n",
        "def enqueue(q):\n",
        "  p = input(\"Add: \")\n",
        "  q.append(p)\n",
        "  print(f\"{p} added\")\n",
        "\n",
        "def dequeue(q):\n",
        "  if isEmpty(q) == False:\n",
        "    print(q.pop(0), \"removed\")\n",
        "\n",
        "def front(q):\n",
        "  if isEmpty(q) == False:\n",
        "    print('front item:', q[0])\n",
        "\n",
        "def rear(q):\n",
        "  if isEmpty(q) == False:\n",
        "    print(\"rear item:\", q[-1])\n",
        "\n",
        "while True:\n",
        "  perintah = input(\"(Dequeue/Enqueue/Front/Rear), ketik selain itu untuk berhenti: \").lower()\n",
        "  \n",
        "  if perintah == 'enqueue':\n",
        "    enqueue(queue)\n",
        "  elif perintah == 'dequeue':\n",
        "    dequeue(queue)\n",
        "  elif perintah == 'front':\n",
        "    front(queue)\n",
        "  elif perintah == 'rear':\n",
        "    rear(queue)\n",
        "  else:\n",
        "    break\n",
        "\n",
        "print(\"Queue items:\", queue)"
      ],
      "metadata": {
        "colab": {
          "base_uri": "https://localhost:8080/"
        },
        "id": "m_zUCYoDwyn1",
        "outputId": "548aeef6-7f46-47a3-b4da-0f178b55fc71"
      },
      "execution_count": 13,
      "outputs": [
        {
          "output_type": "stream",
          "name": "stdout",
          "text": [
            "(Dequeue/Enqueue/Front/Rear), ketik selain itu untuk berhenti: Enqueue\n",
            "Add: family\n",
            "family added\n",
            "(Dequeue/Enqueue/Front/Rear), ketik selain itu untuk berhenti: Enqueue\n",
            "Add: papa\n",
            "papa added\n",
            "(Dequeue/Enqueue/Front/Rear), ketik selain itu untuk berhenti: Enqueue\n",
            "Add: mama\n",
            "mama added\n",
            "(Dequeue/Enqueue/Front/Rear), ketik selain itu untuk berhenti: Enqueue\n",
            "Add: sister 1\n",
            "sister 1 added\n",
            "(Dequeue/Enqueue/Front/Rear), ketik selain itu untuk berhenti: Enqueue\n",
            "Add: sister 2\n",
            "sister 2 added\n",
            "(Dequeue/Enqueue/Front/Rear), ketik selain itu untuk berhenti: Enqueue\n",
            "Add: brother 3\n",
            "brother 3 added\n",
            "(Dequeue/Enqueue/Front/Rear), ketik selain itu untuk berhenti: Enqueue\n",
            "Add: fani \n",
            "fani  added\n",
            "(Dequeue/Enqueue/Front/Rear), ketik selain itu untuk berhenti: Enqueue\n",
            "Add: brother 5\n",
            "brother 5 added\n",
            "(Dequeue/Enqueue/Front/Rear), ketik selain itu untuk berhenti: Dequeue\n",
            "family removed\n",
            "(Dequeue/Enqueue/Front/Rear), ketik selain itu untuk berhenti: front\n",
            "front item: papa\n",
            "(Dequeue/Enqueue/Front/Rear), ketik selain itu untuk berhenti: Rear\n",
            "rear item: brother 5\n",
            "(Dequeue/Enqueue/Front/Rear), ketik selain itu untuk berhenti: Enqueue\n",
            "Add: beloved family\n",
            "beloved family added\n",
            "(Dequeue/Enqueue/Front/Rear), ketik selain itu untuk berhenti: 0\n",
            "Queue items: ['papa', 'mama', 'sister 1', 'sister 2', 'brother 3', 'fani ', 'brother 5', 'beloved family']\n"
          ]
        }
      ]
    }
  ]
}