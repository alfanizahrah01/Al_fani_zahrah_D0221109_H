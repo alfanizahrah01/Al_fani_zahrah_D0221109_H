{
  "nbformat": 4,
  "nbformat_minor": 0,
  "metadata": {
    "colab": {
      "name": "al fani zahrah",
      "provenance": []
    },
    "kernelspec": {
      "name": "python3",
      "display_name": "Python 3"
    },
    "language_info": {
      "name": "python"
    }
  },
  "cells": [
    {
      "cell_type": "markdown",
      "source": [
        "#Al fani zahrah\n",
        "#D0221109\n",
        "#Informatika H\n"
      ],
      "metadata": {
        "id": "yOedGc_-6DCP"
      }
    },
    {
      "cell_type": "markdown",
      "source": [
        "#TYPE DATA PADA PYTHON"
      ],
      "metadata": {
        "id": "IizzTN-uKpwo"
      }
    },
    {
      "cell_type": "markdown",
      "source": [
        "#variabel"
      ],
      "metadata": {
        "id": "qDZ-uPiDIeNv"
      }
    },
    {
      "cell_type": "markdown",
      "source": [
        "#contoh\n"
      ],
      "metadata": {
        "id": "KRMGsOJhMEUf"
      }
    },
    {
      "cell_type": "code",
      "source": [
        "nama = \"al fani zahrah\"\n",
        "print(nama)\n",
        "print(type(nama))"
      ],
      "metadata": {
        "id": "T07Je14Q6ITC",
        "colab": {
          "base_uri": "https://localhost:8080/"
        },
        "outputId": "54eaf7ac-df7f-4b00-d543-3e7108dfe859"
      },
      "execution_count": null,
      "outputs": [
        {
          "output_type": "stream",
          "name": "stdout",
          "text": [
            "al fani zahrah\n",
            "<class 'str'>\n"
          ]
        }
      ]
    },
    {
      "cell_type": "code",
      "source": [
        "umur = 18\n",
        "print(umur)\n",
        "print(type(umur))"
      ],
      "metadata": {
        "colab": {
          "base_uri": "https://localhost:8080/"
        },
        "id": "ADp__gfaMhxp",
        "outputId": "bd3721a0-4d76-4329-ba29-cade886faf8c"
      },
      "execution_count": null,
      "outputs": [
        {
          "output_type": "stream",
          "name": "stdout",
          "text": [
            "18\n",
            "<class 'int'>\n"
          ]
        }
      ]
    },
    {
      "cell_type": "code",
      "source": [
        "tinggi = 1.50\n",
        "print(tinggi)\n",
        "print(type(tinggi))"
      ],
      "metadata": {
        "colab": {
          "base_uri": "https://localhost:8080/"
        },
        "id": "V8ENQoGcM0eW",
        "outputId": "d18c74a2-19fc-4d3a-bc55-df331aa5f649"
      },
      "execution_count": null,
      "outputs": [
        {
          "output_type": "stream",
          "name": "stdout",
          "text": [
            "1.5\n",
            "<class 'float'>\n"
          ]
        }
      ]
    },
    {
      "cell_type": "code",
      "source": [
        "angka = 8<11\n",
        "print(angka)\n",
        "print(type(angka))"
      ],
      "metadata": {
        "colab": {
          "base_uri": "https://localhost:8080/"
        },
        "id": "WBZn6QJxNKGl",
        "outputId": "d9472d77-a723-4c63-e46d-78acc9f06675"
      },
      "execution_count": null,
      "outputs": [
        {
          "output_type": "stream",
          "name": "stdout",
          "text": [
            "True\n",
            "<class 'bool'>\n"
          ]
        }
      ]
    },
    {
      "cell_type": "markdown",
      "source": [
        "#operator aritmatika\n"
      ],
      "metadata": {
        "id": "_yxOkU_ZNcxG"
      }
    },
    {
      "cell_type": "markdown",
      "source": [
        "#contoh"
      ],
      "metadata": {
        "id": "JuZEl4ZENhgh"
      }
    },
    {
      "cell_type": "code",
      "source": [
        "nilai1 = 8\n",
        "nilai2 = 4\n",
        "print(nilai1 + nilai2)\n",
        "print(nilai1 - nilai2)\n",
        "print(nilai1 * nilai2)\n",
        "print(nilai1 / nilai2)\n",
        "print(nilai1 % nilai2)\n",
        "print(nilai1 ** nilai2)\n",
        "print(nilai1 // nilai2)\n"
      ],
      "metadata": {
        "colab": {
          "base_uri": "https://localhost:8080/"
        },
        "id": "9v8AdwJ-OUJU",
        "outputId": "e91fad5e-80b1-474c-da5d-2176e8665ff3"
      },
      "execution_count": null,
      "outputs": [
        {
          "output_type": "stream",
          "name": "stdout",
          "text": [
            "12\n",
            "4\n",
            "32\n",
            "2.0\n",
            "0\n",
            "4096\n",
            "2\n"
          ]
        }
      ]
    },
    {
      "cell_type": "markdown",
      "source": [
        "#operator penugasan"
      ],
      "metadata": {
        "id": "cCzNYmx_O9Oy"
      }
    },
    {
      "cell_type": "markdown",
      "source": [
        "contoh"
      ],
      "metadata": {
        "id": "wFCfJd-BPCiV"
      }
    },
    {
      "cell_type": "code",
      "source": [
        "nilai = 4\n",
        "nilai += 8\n",
        "print(nilai)"
      ],
      "metadata": {
        "colab": {
          "base_uri": "https://localhost:8080/"
        },
        "id": "nqoaFNhGPD-K",
        "outputId": "b54c43dd-d4f4-4df7-b4f0-e07d86825651"
      },
      "execution_count": null,
      "outputs": [
        {
          "output_type": "stream",
          "name": "stdout",
          "text": [
            "12\n"
          ]
        }
      ]
    },
    {
      "cell_type": "markdown",
      "source": [
        "#operator perbandingan"
      ],
      "metadata": {
        "id": "XVAl-SyvPteK"
      }
    },
    {
      "cell_type": "markdown",
      "source": [
        "#contoh"
      ],
      "metadata": {
        "id": "_YPrNtbIPw72"
      }
    },
    {
      "cell_type": "code",
      "source": [
        "nilai = 4\n",
        "if nilai != 5:\n",
        "  print(\"nilai tersebut bukan 4\")"
      ],
      "metadata": {
        "colab": {
          "base_uri": "https://localhost:8080/"
        },
        "id": "puyoDRjLROaV",
        "outputId": "3b118c66-9813-47a8-b7ef-f78d8b61897c"
      },
      "execution_count": null,
      "outputs": [
        {
          "output_type": "stream",
          "name": "stdout",
          "text": [
            "nilai tersebut bukan 4\n"
          ]
        }
      ]
    },
    {
      "cell_type": "markdown",
      "source": [
        "#percabangan if else"
      ],
      "metadata": {
        "id": "sep3MPDjR_T5"
      }
    },
    {
      "cell_type": "markdown",
      "source": [
        "#contoh"
      ],
      "metadata": {
        "id": "BtJQhcQHSB_K"
      }
    },
    {
      "cell_type": "code",
      "source": [
        "nilai = 90\n",
        "if nilai > 60 :\n",
        "  print(\"lulus\")\n",
        "else:\n",
        "  print(\"tidak lulus\")"
      ],
      "metadata": {
        "colab": {
          "base_uri": "https://localhost:8080/"
        },
        "id": "pF3H2TcYSH0k",
        "outputId": "285612ca-bc2f-4fba-f33c-c4c592fdff8f"
      },
      "execution_count": null,
      "outputs": [
        {
          "output_type": "stream",
          "name": "stdout",
          "text": [
            "lulus\n"
          ]
        }
      ]
    },
    {
      "cell_type": "markdown",
      "source": [
        "percabangan if"
      ],
      "metadata": {
        "id": "n1CJAq8jJtGI"
      }
    },
    {
      "cell_type": "code",
      "source": [
        "nilai = 85\n",
        "if (nilai >= 80):\n",
        "  print(\"Nilai A\")"
      ],
      "metadata": {
        "colab": {
          "base_uri": "https://localhost:8080/"
        },
        "id": "LfanaVYpJyDE",
        "outputId": "9d4896fb-23ba-4125-a302-7373d7ebd8a3"
      },
      "execution_count": null,
      "outputs": [
        {
          "output_type": "stream",
          "name": "stdout",
          "text": [
            "Nilai A\n"
          ]
        }
      ]
    },
    {
      "cell_type": "markdown",
      "source": [
        "#percabangan elif"
      ],
      "metadata": {
        "id": "40Y9z-XJJ1gh"
      }
    },
    {
      "cell_type": "code",
      "source": [
        "umur = 20\n",
        "if (umur > 18 and umur < 30):\n",
        "  print(\"sudah Beranjak Dewasa\")\n",
        "elif(umur >= 30 and umur < 45):\n",
        "  print(\"masa masa emas\")\n",
        "elif (umur >= 45 and umur < 55):\n",
        "  print(\"masa paruh baya\")\n",
        "elif(umur >= 55):\n",
        "  print(\"masa manula\")\n",
        "else:\n",
        "  print(\"masih dibawah umur\")"
      ],
      "metadata": {
        "id": "G2oYUnohJ7Ou",
        "colab": {
          "base_uri": "https://localhost:8080/"
        },
        "outputId": "7a361cd5-ca67-483a-fe0d-02b62d786e3c"
      },
      "execution_count": null,
      "outputs": [
        {
          "output_type": "stream",
          "name": "stdout",
          "text": [
            "sudah Beranjak Dewasa\n"
          ]
        }
      ]
    },
    {
      "cell_type": "markdown",
      "source": [
        "#contoh kasus "
      ],
      "metadata": {
        "id": "cGCdlXnfIu3f"
      }
    },
    {
      "cell_type": "code",
      "source": [
        "nama = \"al fani zahrah (D0217011)\"\n",
        "gaji_pokok = 1000000\n",
        "gaji_lembur = 5000\n",
        "lama_lembur = 11\n",
        "jumlah_lembur = 5000*11\n",
        "gaji_kotor = gaji_pokok = jumlah_lembur\n",
        "pajak = 10/100\n",
        "potongan = int(pajak * gaji_pokok)\n",
        "gaji_bersih = int(gaji_kotor - potongan)\n",
        "print(\"nama                    :\", nama)\n",
        "print(\"gaji pokok              : Rp \",gaji_pokok)\n",
        "print(\"gaji lembur             : Rp \",jumlah_lembur)\n",
        "print(\"gaji kotor              : Rp \",gaji_kotor)\n",
        "print(\"pajak                   : Rp \",pajak)\n",
        "print(\"potongan                : Rp \",potongan)\n",
        "print(\"gaji bersih             : Rp \",gaji_bersih)"
      ],
      "metadata": {
        "colab": {
          "base_uri": "https://localhost:8080/"
        },
        "id": "rC2cTGZXULIn",
        "outputId": "d19b4975-5b10-44b6-c833-01aa2b30a5ad"
      },
      "execution_count": null,
      "outputs": [
        {
          "output_type": "stream",
          "name": "stdout",
          "text": [
            "nama                    : al fani zahrah (D0217011)\n",
            "gaji pokok              : Rp  55000\n",
            "gaji lembur             : Rp  55000\n",
            "gaji kotor              : Rp  55000\n",
            "pajak                   : Rp  0.1\n",
            "potongan                : Rp  5500\n",
            "gaji bersih             : Rp  49500\n"
          ]
        }
      ]
    }
  ]
}