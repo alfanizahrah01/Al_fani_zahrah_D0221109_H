{
  "nbformat": 4,
  "nbformat_minor": 0,
  "metadata": {
    "colab": {
      "name": "codingan list_ tuple_set_dictionary ",
      "provenance": [],
      "collapsed_sections": [],
      "toc_visible": true
    },
    "kernelspec": {
      "name": "python3",
      "display_name": "Python 3"
    },
    "language_info": {
      "name": "python"
    }
  },
  "cells": [
    {
      "cell_type": "markdown",
      "source": [
        "#membuat contoh list"
      ],
      "metadata": {
        "id": "Fm7-cG_OUBWb"
      }
    },
    {
      "cell_type": "code",
      "source": [
        "nama = [\"dani\",\"rani\",\"fira\",\"fani\"]\n",
        "for i in nama:\n",
        "  print(i)"
      ],
      "metadata": {
        "colab": {
          "base_uri": "https://localhost:8080/"
        },
        "id": "-OLdiQxEUDuU",
        "outputId": "b041e61f-d543-4bf7-98dc-ebf3a22c6682"
      },
      "execution_count": null,
      "outputs": [
        {
          "output_type": "stream",
          "name": "stdout",
          "text": [
            "dani\n",
            "rani\n",
            "fira\n",
            "fani\n"
          ]
        }
      ]
    },
    {
      "cell_type": "markdown",
      "source": [
        "#mengupdate/mengganti nilai pada list\n"
      ],
      "metadata": {
        "id": "IBn_vzUuUONA"
      }
    },
    {
      "cell_type": "code",
      "source": [
        "nama[2] = \"indah\"\n",
        "print(nama)"
      ],
      "metadata": {
        "colab": {
          "base_uri": "https://localhost:8080/"
        },
        "id": "hoX_vMg1UPr4",
        "outputId": "e42d3d7d-658c-4390-efa4-113a3b668346"
      },
      "execution_count": null,
      "outputs": [
        {
          "output_type": "stream",
          "name": "stdout",
          "text": [
            "['dani', 'rani', 'indah', 'fani']\n"
          ]
        }
      ]
    },
    {
      "cell_type": "markdown",
      "source": [
        "#menghapus elemen pada list dengan nama"
      ],
      "metadata": {
        "id": "qzLCvDKHUVrz"
      }
    },
    {
      "cell_type": "code",
      "source": [
        "nama.remove(\"fani\")\n",
        "print(nama)"
      ],
      "metadata": {
        "colab": {
          "base_uri": "https://localhost:8080/"
        },
        "id": "TXdKyQieUZrZ",
        "outputId": "9d861673-2fc2-43a5-f0d8-74971d2569a4"
      },
      "execution_count": null,
      "outputs": [
        {
          "output_type": "stream",
          "name": "stdout",
          "text": [
            "['dani', 'rani', 'indah']\n"
          ]
        }
      ]
    },
    {
      "cell_type": "markdown",
      "source": [
        "#menambahkan nilai pada akhir data"
      ],
      "metadata": {
        "id": "LA4-m21AUfQf"
      }
    },
    {
      "cell_type": "code",
      "source": [
        "nama.append(\"tika\")\n",
        "print(nama)"
      ],
      "metadata": {
        "colab": {
          "base_uri": "https://localhost:8080/"
        },
        "id": "vmq64bNXUj6J",
        "outputId": "6718892d-b776-4746-a3f5-41ffdf9382ef"
      },
      "execution_count": null,
      "outputs": [
        {
          "output_type": "stream",
          "name": "stdout",
          "text": [
            "['dani', 'rani', 'indah', 'tika']\n"
          ]
        }
      ]
    },
    {
      "cell_type": "markdown",
      "source": [
        "#contoh tuple"
      ],
      "metadata": {
        "id": "CTrOssX6WJUO"
      }
    },
    {
      "cell_type": "code",
      "source": [
        "buah = (\"durian\",\"apel\",\"anggur\",\"mangga\")\n",
        "for i in buah:\n",
        "  print(i)"
      ],
      "metadata": {
        "colab": {
          "base_uri": "https://localhost:8080/"
        },
        "id": "ignijIToWOga",
        "outputId": "405fa91a-01f5-44b6-8a2b-96855f4c411c"
      },
      "execution_count": null,
      "outputs": [
        {
          "output_type": "stream",
          "name": "stdout",
          "text": [
            "durian\n",
            "apel\n",
            "anggur\n",
            "mangga\n"
          ]
        }
      ]
    },
    {
      "cell_type": "markdown",
      "source": [
        "#menghapus salah satu tuple"
      ],
      "metadata": {
        "id": "aewVr66jd0Yq"
      }
    },
    {
      "cell_type": "code",
      "source": [
        "buah = list(buah)\n",
        "buah.remove(\"apel\")\n",
        "print(buah)"
      ],
      "metadata": {
        "colab": {
          "base_uri": "https://localhost:8080/"
        },
        "id": "aFUNuT3wd5Ti",
        "outputId": "78407c3a-9339-4030-809b-80f9b2df7b85"
      },
      "execution_count": null,
      "outputs": [
        {
          "output_type": "stream",
          "name": "stdout",
          "text": [
            "['durian', 'anggur', 'mangga']\n"
          ]
        }
      ]
    },
    {
      "cell_type": "markdown",
      "source": [
        "#menambah isi tuple"
      ],
      "metadata": {
        "id": "Lhw4lenMd_QX"
      }
    },
    {
      "cell_type": "code",
      "source": [
        "buah.append(\"jeruk\")\n",
        "print(buah)"
      ],
      "metadata": {
        "colab": {
          "base_uri": "https://localhost:8080/"
        },
        "id": "ungrKlAheAk8",
        "outputId": "8cdc07a6-aa8f-4146-fbef-7116b03e14c7"
      },
      "execution_count": null,
      "outputs": [
        {
          "output_type": "stream",
          "name": "stdout",
          "text": [
            "['durian', 'anggur', 'mangga', 'jeruk']\n"
          ]
        }
      ]
    },
    {
      "cell_type": "markdown",
      "source": [
        "#mengupdate salah satu tuple pada indeks ke-2"
      ],
      "metadata": {
        "id": "cFCNlpYceDe8"
      }
    },
    {
      "cell_type": "code",
      "source": [
        "buah[2] = \"jambu\"\n",
        "print(buah)"
      ],
      "metadata": {
        "id": "zS0caT3EeKsx",
        "outputId": "a8546595-0221-4086-c645-e039ec91c037",
        "colab": {
          "base_uri": "https://localhost:8080/"
        }
      },
      "execution_count": null,
      "outputs": [
        {
          "output_type": "stream",
          "name": "stdout",
          "text": [
            "['durian', 'anggur', 'jambu', 'jeruk']\n"
          ]
        }
      ]
    },
    {
      "cell_type": "markdown",
      "source": [
        "#membuat contoh dictionary"
      ],
      "metadata": {
        "id": "OInRQIJYL7pJ"
      }
    },
    {
      "cell_type": "code",
      "source": [
        "dataku = {\n",
        "    \"nama\": \"AlFaniZahrah\",\n",
        "    \"umur\": 18,\n",
        "    \"alamat\": \"Campa\",\n",
        "    \"tahunLahir\": 2003,\n",
        "    \"warna\": \"pink\",\n",
        "    \"hobi\": \"makan\",\n",
        "    \"teman\": [\"putri\",\"aulia\",\"Rani\"]\n",
        "}\n",
        "\n",
        "for i in dataku:\n",
        "    print(i, \"->\", dataku[i])"
      ],
      "metadata": {
        "colab": {
          "base_uri": "https://localhost:8080/"
        },
        "id": "1Wyw-d_yDrQj",
        "outputId": "04c6a5fb-0deb-4258-cab5-d8673d4f469c"
      },
      "execution_count": 29,
      "outputs": [
        {
          "output_type": "stream",
          "name": "stdout",
          "text": [
            "nama -> AlFaniZahrah\n",
            "umur -> 18\n",
            "alamat -> Campa\n",
            "tahunLahir -> 2003\n",
            "warna -> pink\n",
            "hobi -> makan\n",
            "teman -> ['putri', 'aulia', 'Rani']\n"
          ]
        }
      ]
    },
    {
      "cell_type": "markdown",
      "source": [
        "#mengganti nilai"
      ],
      "metadata": {
        "id": "oAPaOJ38Dv-d"
      }
    },
    {
      "cell_type": "code",
      "source": [
        "dataku[\"hobi\"] = \"menari\"\n",
        "print(dataku)"
      ],
      "metadata": {
        "colab": {
          "base_uri": "https://localhost:8080/"
        },
        "id": "Z7gohRQYD18J",
        "outputId": "c1b36f6a-0d7f-4cfe-846c-a71f3c11a3d5"
      },
      "execution_count": 30,
      "outputs": [
        {
          "output_type": "stream",
          "name": "stdout",
          "text": [
            "{'nama': 'AlFaniZahrah', 'umur': 18, 'alamat': 'Campa', 'tahunLahir': 2003, 'warna': 'pink', 'hobi': 'menari', 'teman': ['putri', 'aulia', 'Rani']}\n"
          ]
        }
      ]
    },
    {
      "cell_type": "markdown",
      "source": [
        "#menghapus dengan del yaitu => nama"
      ],
      "metadata": {
        "id": "fOnpfHWnD6X8"
      }
    },
    {
      "cell_type": "code",
      "source": [
        "del dataku[\"teman\"]\n",
        "print(dataku)"
      ],
      "metadata": {
        "colab": {
          "base_uri": "https://localhost:8080/"
        },
        "id": "z462sAjYD_8B",
        "outputId": "ef8a45ea-c0e6-4773-cddb-6a6c1a0a0146"
      },
      "execution_count": 31,
      "outputs": [
        {
          "output_type": "stream",
          "name": "stdout",
          "text": [
            "{'nama': 'AlFaniZahrah', 'umur': 18, 'alamat': 'Campa', 'tahunLahir': 2003, 'warna': 'pink', 'hobi': 'menari'}\n"
          ]
        }
      ]
    },
    {
      "cell_type": "markdown",
      "source": [
        "#update nilai atau menambah"
      ],
      "metadata": {
        "id": "naiU_a1EEFgC"
      }
    },
    {
      "cell_type": "code",
      "source": [
        "dataku.update({\"nama_panggilan\": \"fani\"})\n",
        "print(dataku)"
      ],
      "metadata": {
        "colab": {
          "base_uri": "https://localhost:8080/"
        },
        "id": "RQcGMKEmEN-x",
        "outputId": "3fe4f445-9e1b-414e-acc1-258232ed6561"
      },
      "execution_count": 32,
      "outputs": [
        {
          "output_type": "stream",
          "name": "stdout",
          "text": [
            "{'nama': 'AlFaniZahrah', 'umur': 18, 'alamat': 'Campa', 'tahunLahir': 2003, 'warna': 'pink', 'hobi': 'menari', 'nama_panggilan': 'fani'}\n"
          ]
        }
      ]
    },
    {
      "cell_type": "markdown",
      "source": [
        "#membuat contoh set"
      ],
      "metadata": {
        "id": "3UPlc79yMB-T"
      }
    },
    {
      "cell_type": "code",
      "source": [
        "hp = {\"oppo\", \"samsung\", \"realmi\"}\n",
        "for i in hp:\n",
        "  print(i)"
      ],
      "metadata": {
        "colab": {
          "base_uri": "https://localhost:8080/"
        },
        "id": "xh0FDueTMEou",
        "outputId": "50cbc19d-a27c-4e79-d624-aa22baa079a1"
      },
      "execution_count": 53,
      "outputs": [
        {
          "output_type": "stream",
          "name": "stdout",
          "text": [
            "samsung\n",
            "realmi\n",
            "oppo\n"
          ]
        }
      ]
    },
    {
      "cell_type": "markdown",
      "source": [
        "#mengupdate nilai set"
      ],
      "metadata": {
        "id": "OJW93XIFMLuZ"
      }
    },
    {
      "cell_type": "code",
      "source": [
        "hp.update ({\"iphone\",\"vivo\"})\n",
        "print(hp)"
      ],
      "metadata": {
        "colab": {
          "base_uri": "https://localhost:8080/"
        },
        "id": "y6lkRLA3MQl3",
        "outputId": "22e12cf8-1840-4462-c97a-8860625d0676"
      },
      "execution_count": 54,
      "outputs": [
        {
          "output_type": "stream",
          "name": "stdout",
          "text": [
            "{'samsung', 'realmi', 'vivo', 'iphone', 'oppo'}\n"
          ]
        }
      ]
    },
    {
      "cell_type": "markdown",
      "source": [
        "#menghapus nilai dengan remove"
      ],
      "metadata": {
        "id": "nMOj2F-cMg8p"
      }
    },
    {
      "cell_type": "code",
      "source": [
        "hp.remove(\"samsung\")\n",
        "print(hp)"
      ],
      "metadata": {
        "colab": {
          "base_uri": "https://localhost:8080/"
        },
        "id": "DHrPmrMVMmKR",
        "outputId": "202b002f-7533-4ff1-f781-21ad90136bda"
      },
      "execution_count": 55,
      "outputs": [
        {
          "output_type": "stream",
          "name": "stdout",
          "text": [
            "{'realmi', 'vivo', 'iphone', 'oppo'}\n"
          ]
        }
      ]
    },
    {
      "cell_type": "markdown",
      "source": [
        "#menambah nilai kedalam set"
      ],
      "metadata": {
        "id": "RGSp5nrtMwjz"
      }
    },
    {
      "cell_type": "code",
      "source": [
        "hp.add(\"mito\")\n",
        "print(hp)"
      ],
      "metadata": {
        "colab": {
          "base_uri": "https://localhost:8080/"
        },
        "id": "CyIK9iomMuBY",
        "outputId": "4afd9469-921b-4435-ddf3-b2bd60d2095c"
      },
      "execution_count": 56,
      "outputs": [
        {
          "output_type": "stream",
          "name": "stdout",
          "text": [
            "{'realmi', 'vivo', 'mito', 'iphone', 'oppo'}\n"
          ]
        }
      ]
    }
  ]
}