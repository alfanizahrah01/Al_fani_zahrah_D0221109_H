{
  "nbformat": 4,
  "nbformat_minor": 0,
  "metadata": {
    "colab": {
      "name": "codingan list,tuple,set,dictionary ",
      "provenance": [],
      "collapsed_sections": [],
      "toc_visible": true
    },
    "kernelspec": {
      "name": "python3",
      "display_name": "Python 3"
    },
    "language_info": {
      "name": "python"
    }
  },
  "cells": [
    {
      "cell_type": "markdown",
      "source": [
        "#membuat contoh list"
      ],
      "metadata": {
        "id": "Fm7-cG_OUBWb"
      }
    },
    {
      "cell_type": "code",
      "source": [
        "nama = [\"dani\",\"rani\",\"fira\",\"fani\"]\n",
        "for i in nama:\n",
        "  print(i)"
      ],
      "metadata": {
        "colab": {
          "base_uri": "https://localhost:8080/"
        },
        "id": "-OLdiQxEUDuU",
        "outputId": "b041e61f-d543-4bf7-98dc-ebf3a22c6682"
      },
      "execution_count": null,
      "outputs": [
        {
          "output_type": "stream",
          "name": "stdout",
          "text": [
            "dani\n",
            "rani\n",
            "fira\n",
            "fani\n"
          ]
        }
      ]
    },
    {
      "cell_type": "markdown",
      "source": [
        "#mengupdate/mengganti nilai pada list\n"
      ],
      "metadata": {
        "id": "IBn_vzUuUONA"
      }
    },
    {
      "cell_type": "code",
      "source": [
        "nama[2] = \"indah\"\n",
        "print(nama)"
      ],
      "metadata": {
        "colab": {
          "base_uri": "https://localhost:8080/"
        },
        "id": "hoX_vMg1UPr4",
        "outputId": "e42d3d7d-658c-4390-efa4-113a3b668346"
      },
      "execution_count": null,
      "outputs": [
        {
          "output_type": "stream",
          "name": "stdout",
          "text": [
            "['dani', 'rani', 'indah', 'fani']\n"
          ]
        }
      ]
    },
    {
      "cell_type": "markdown",
      "source": [
        "#menghapus elemen pada list dengan nama"
      ],
      "metadata": {
        "id": "qzLCvDKHUVrz"
      }
    },
    {
      "cell_type": "code",
      "source": [
        "nama.remove(\"fani\")\n",
        "print(nama)"
      ],
      "metadata": {
        "colab": {
          "base_uri": "https://localhost:8080/"
        },
        "id": "TXdKyQieUZrZ",
        "outputId": "9d861673-2fc2-43a5-f0d8-74971d2569a4"
      },
      "execution_count": null,
      "outputs": [
        {
          "output_type": "stream",
          "name": "stdout",
          "text": [
            "['dani', 'rani', 'indah']\n"
          ]
        }
      ]
    },
    {
      "cell_type": "markdown",
      "source": [
        "#menambahkan nilai pada akhir data"
      ],
      "metadata": {
        "id": "LA4-m21AUfQf"
      }
    },
    {
      "cell_type": "code",
      "source": [
        "nama.append(\"tika\")\n",
        "print(nama)"
      ],
      "metadata": {
        "colab": {
          "base_uri": "https://localhost:8080/"
        },
        "id": "vmq64bNXUj6J",
        "outputId": "6718892d-b776-4746-a3f5-41ffdf9382ef"
      },
      "execution_count": null,
      "outputs": [
        {
          "output_type": "stream",
          "name": "stdout",
          "text": [
            "['dani', 'rani', 'indah', 'tika']\n"
          ]
        }
      ]
    },
    {
      "cell_type": "markdown",
      "source": [
        "#contoh tuple"
      ],
      "metadata": {
        "id": "CTrOssX6WJUO"
      }
    },
    {
      "cell_type": "code",
      "source": [
        "buah = (\"durian\",\"apel\",\"anggur\",\"mangga\")\n",
        "for i in buah:\n",
        "  print(i)"
      ],
      "metadata": {
        "colab": {
          "base_uri": "https://localhost:8080/"
        },
        "id": "ignijIToWOga",
        "outputId": "405fa91a-01f5-44b6-8a2b-96855f4c411c"
      },
      "execution_count": null,
      "outputs": [
        {
          "output_type": "stream",
          "name": "stdout",
          "text": [
            "durian\n",
            "apel\n",
            "anggur\n",
            "mangga\n"
          ]
        }
      ]
    },
    {
      "cell_type": "markdown",
      "source": [
        "#menghapus salah satu tuple"
      ],
      "metadata": {
        "id": "aewVr66jd0Yq"
      }
    },
    {
      "cell_type": "code",
      "source": [
        "buah = list(buah)\n",
        "buah.remove(\"apel\")\n",
        "print(buah)"
      ],
      "metadata": {
        "colab": {
          "base_uri": "https://localhost:8080/"
        },
        "id": "aFUNuT3wd5Ti",
        "outputId": "78407c3a-9339-4030-809b-80f9b2df7b85"
      },
      "execution_count": null,
      "outputs": [
        {
          "output_type": "stream",
          "name": "stdout",
          "text": [
            "['durian', 'anggur', 'mangga']\n"
          ]
        }
      ]
    },
    {
      "cell_type": "markdown",
      "source": [
        "#menambah isi tuple"
      ],
      "metadata": {
        "id": "Lhw4lenMd_QX"
      }
    },
    {
      "cell_type": "code",
      "source": [
        "buah.append(\"jeruk\")\n",
        "print(buah)"
      ],
      "metadata": {
        "colab": {
          "base_uri": "https://localhost:8080/"
        },
        "id": "ungrKlAheAk8",
        "outputId": "8cdc07a6-aa8f-4146-fbef-7116b03e14c7"
      },
      "execution_count": null,
      "outputs": [
        {
          "output_type": "stream",
          "name": "stdout",
          "text": [
            "['durian', 'anggur', 'mangga', 'jeruk']\n"
          ]
        }
      ]
    },
    {
      "cell_type": "markdown",
      "source": [
        "#mengupdate salah satu tuple pada indeks ke-2"
      ],
      "metadata": {
        "id": "cFCNlpYceDe8"
      }
    },
    {
      "cell_type": "code",
      "source": [
        "buah[2] = \"jambu\"\n",
        "print(buah)"
      ],
      "metadata": {
        "id": "zS0caT3EeKsx",
        "outputId": "a8546595-0221-4086-c645-e039ec91c037",
        "colab": {
          "base_uri": "https://localhost:8080/"
        }
      },
      "execution_count": null,
      "outputs": [
        {
          "output_type": "stream",
          "name": "stdout",
          "text": [
            "['durian', 'anggur', 'jambu', 'jeruk']\n"
          ]
        }
      ]
    },
    {
      "cell_type": "markdown",
      "source": [
        "#contoh set"
      ],
      "metadata": {
        "id": "w_c45kiIrc06"
      }
    },
    {
      "cell_type": "code",
      "source": [
        "hp = {\"oppo\", \"samsung\", \"realmi\"}\n",
        "for i in hp:\n",
        "  print(i)"
      ],
      "metadata": {
        "colab": {
          "base_uri": "https://localhost:8080/"
        },
        "id": "LOIcV_4Jre4L",
        "outputId": "64c5542d-2fa9-428d-af12-5ebbfb1975a3"
      },
      "execution_count": null,
      "outputs": [
        {
          "output_type": "stream",
          "name": "stdout",
          "text": [
            "samsung\n",
            "realmi\n",
            "oppo\n"
          ]
        }
      ]
    },
    {
      "cell_type": "markdown",
      "source": [
        "#mengupdate nilai set"
      ],
      "metadata": {
        "id": "oTnMhU_hrqVE"
      }
    },
    {
      "cell_type": "code",
      "source": [
        "hp = {\"oppo\", \"samsung\", \"realmi\"}\n",
        "hp = list(hp)\n",
        "hp[2] = \"iphone\"\n",
        "print(hp)"
      ],
      "metadata": {
        "colab": {
          "base_uri": "https://localhost:8080/"
        },
        "id": "JBRZ0N8PrvQu",
        "outputId": "eec46b31-ea5b-44a8-d772-3e9798fe7956"
      },
      "execution_count": 8,
      "outputs": [
        {
          "output_type": "stream",
          "name": "stdout",
          "text": [
            "['samsung', 'oppo', 'iphone']\n"
          ]
        }
      ]
    },
    {
      "cell_type": "markdown",
      "source": [
        "# menghapus nilai set dengan remove"
      ],
      "metadata": {
        "id": "qbWoit2Qr80W"
      }
    },
    {
      "cell_type": "code",
      "source": [
        "hp.remove(\"samsung\")\n",
        "print(hp)"
      ],
      "metadata": {
        "colab": {
          "base_uri": "https://localhost:8080/"
        },
        "id": "xilh288hsDi-",
        "outputId": "cf1cf332-3a61-4a71-9b43-8bf1e5942413"
      },
      "execution_count": null,
      "outputs": [
        {
          "output_type": "stream",
          "name": "stdout",
          "text": [
            "{'realmi', 'iphone', 'Vivo', 'oppo'}\n"
          ]
        }
      ]
    },
    {
      "cell_type": "markdown",
      "source": [
        "#menambah nilai kedalam set"
      ],
      "metadata": {
        "id": "9bYo8_ZvsJia"
      }
    },
    {
      "cell_type": "code",
      "source": [
        "hp.add(\"mito\")\n",
        "print(hp)"
      ],
      "metadata": {
        "colab": {
          "base_uri": "https://localhost:8080/"
        },
        "id": "ywQtyCrhsOXG",
        "outputId": "34d01ef8-27e0-4566-ecbd-c17b2f12a819"
      },
      "execution_count": null,
      "outputs": [
        {
          "output_type": "stream",
          "name": "stdout",
          "text": [
            "{'mito', 'realmi', 'iphone', 'Vivo', 'oppo'}\n"
          ]
        }
      ]
    },
    {
      "cell_type": "markdown",
      "source": [
        "#contoh dictionary"
      ],
      "metadata": {
        "id": "1h9wchgXsgzW"
      }
    },
    {
      "cell_type": "code",
      "source": [
        "dataku = {\n",
        "    \"nama\": \"AlFaniZahra\",\n",
        "    \"umur\": 18,\n",
        "    \"alamat\": \"Campa\",\n",
        "    \"tahunLahir\": 2003,\n",
        "    \"warna\": \"pink\",\n",
        "    \"hobi\": \"makan\",\n",
        "    \"teman\": [\"putri\",\"aulia\",\"Rani\"]\n",
        "}\n",
        "\n",
        "for i in dataku:\n",
        "    print(i, \"->\", dataku[i])"
      ],
      "metadata": {
        "colab": {
          "base_uri": "https://localhost:8080/"
        },
        "id": "WWRptrJ-skpj",
        "outputId": "e1fedaf8-464b-434f-85c6-475de71f2a01"
      },
      "execution_count": null,
      "outputs": [
        {
          "output_type": "stream",
          "name": "stdout",
          "text": [
            "nama -> AlFaniZahra\n",
            "umur -> 18\n",
            "alamat -> Campa\n",
            "tahunLahir -> 2003\n",
            "warna -> pink\n",
            "hobi -> makan\n",
            "teman -> ['putri', 'aulia', 'Rani']\n"
          ]
        }
      ]
    },
    {
      "cell_type": "markdown",
      "source": [
        "# mengganti nilai"
      ],
      "metadata": {
        "id": "aucb9GhWs9bw"
      }
    },
    {
      "cell_type": "code",
      "source": [
        "dataku[\"hobi\"] = \"menari\"\n",
        "print(dataku)"
      ],
      "metadata": {
        "colab": {
          "base_uri": "https://localhost:8080/"
        },
        "id": "d4qHpm4Ts-TX",
        "outputId": "039f248e-7ca9-493f-e5c2-14435c98d258"
      },
      "execution_count": null,
      "outputs": [
        {
          "output_type": "stream",
          "name": "stdout",
          "text": [
            "{'nama': 'AlFaniZahra', 'umur': 18, 'alamat': 'Campa', 'tahunLahir': 2003, 'warna': 'pink', 'hobi': 'menari', 'teman': ['putri', 'aulia', 'Rani']}\n"
          ]
        }
      ]
    },
    {
      "cell_type": "markdown",
      "source": [
        "# menghapus dengan del yaitu => nama"
      ],
      "metadata": {
        "id": "ymsgn4jrtG7E"
      }
    },
    {
      "cell_type": "code",
      "source": [
        "del dataku[\"teman\"]\n",
        "print(dataku)"
      ],
      "metadata": {
        "colab": {
          "base_uri": "https://localhost:8080/"
        },
        "id": "_55EGgrEtO3U",
        "outputId": "b2adf57d-d5d1-4f63-e849-3f9f7e9100b0"
      },
      "execution_count": null,
      "outputs": [
        {
          "output_type": "stream",
          "name": "stdout",
          "text": [
            "{'nama': 'AlFaniZahra', 'umur': 18, 'alamat': 'Campa', 'tahunLahir': 2003, 'warna': 'pink', 'hobi': 'menari'}\n"
          ]
        }
      ]
    },
    {
      "cell_type": "markdown",
      "source": [
        "# update nilai atau menambah"
      ],
      "metadata": {
        "id": "EWd8-YtltU3g"
      }
    },
    {
      "cell_type": "code",
      "source": [
        "dataku.update({\"nama_panggilan\": \"fani\"})\n",
        "print(dataku)"
      ],
      "metadata": {
        "colab": {
          "base_uri": "https://localhost:8080/"
        },
        "id": "Vln1_t-ctZjE",
        "outputId": "ce40cfdb-6c98-445c-a065-31e3f5ecae3a"
      },
      "execution_count": null,
      "outputs": [
        {
          "output_type": "stream",
          "name": "stdout",
          "text": [
            "{'nama': 'AlFaniZahra', 'umur': 18, 'alamat': 'Campa', 'tahunLahir': 2003, 'warna': 'pink', 'hobi': 'menari', 'nama_panggilan': 'fani'}\n"
          ]
        }
      ]
    }
  ]
}